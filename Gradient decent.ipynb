{
 "cells": [
  {
   "cell_type": "markdown",
   "metadata": {},
   "source": [
    "<a name=\"1\"></a>\n",
    "## Packages \n",
    "\n",
    "- [pandas](http://pandas.org) is a famous library for data manipulation and analysis in Python.\n",
    "- [numpy](www.numpy.org) is the fundamental package for working with matrices in Python.\n",
    "- [matplotlib & seaborn ](http://matplotlib.org) is a famous library to plot graphs in Python.\n",
    "- [sklearn]((http://sklearn.org)) Comprehensive Python library for machine learning. \n"
   ]
  },
  {
   "cell_type": "code",
   "execution_count": 1,
   "metadata": {
    "deletable": false,
    "editable": false
   },
   "outputs": [],
   "source": [
    "import pandas as pd \n",
    "import numpy as np\n",
    "import seaborn as sns\n",
    "import matplotlib.pyplot as plt\n",
    "import copy\n",
    "import math \n"
   ]
  },
  {
   "cell_type": "markdown",
   "metadata": {},
   "source": [
    "## Problem Statement\n",
    "\n",
    "- Build a model which predicts sales based on the money spent on different platforms for marketing.\n",
    "\n",
    "## Dataset\n",
    "\n",
    "- Use the advertising dataset given in ISLR and analyse the relationship between 'TV advertising' and 'sales' using a simple linear regression model.\n",
    "\n",
    "- In this notebook, we'll build a linear regression model to predict Sales using an appropriate predictor variable."
   ]
  },
  {
   "cell_type": "code",
   "execution_count": 2,
   "metadata": {
    "deletable": false,
    "editable": false
   },
   "outputs": [],
   "source": [
    "# load the dataset\n",
    "data = pd.read_csv(\"advertising.csv\")"
   ]
  },
  {
   "cell_type": "markdown",
   "metadata": {},
   "source": [
    "#### View the variables\n",
    "Before starting on any task, it is useful to get more familiar with your dataset.  \n",
    "- A good place to start is to just print out each variable and see what it contains."
   ]
  },
  {
   "cell_type": "code",
   "execution_count": 3,
   "metadata": {
    "deletable": false,
    "editable": false
   },
   "outputs": [
    {
     "data": {
      "text/html": [
       "<div>\n",
       "<style scoped>\n",
       "    .dataframe tbody tr th:only-of-type {\n",
       "        vertical-align: middle;\n",
       "    }\n",
       "\n",
       "    .dataframe tbody tr th {\n",
       "        vertical-align: top;\n",
       "    }\n",
       "\n",
       "    .dataframe thead th {\n",
       "        text-align: right;\n",
       "    }\n",
       "</style>\n",
       "<table border=\"1\" class=\"dataframe\">\n",
       "  <thead>\n",
       "    <tr style=\"text-align: right;\">\n",
       "      <th></th>\n",
       "      <th>TV</th>\n",
       "      <th>Radio</th>\n",
       "      <th>Newspaper</th>\n",
       "      <th>Sales</th>\n",
       "    </tr>\n",
       "  </thead>\n",
       "  <tbody>\n",
       "    <tr>\n",
       "      <th>0</th>\n",
       "      <td>230.1</td>\n",
       "      <td>37.8</td>\n",
       "      <td>69.2</td>\n",
       "      <td>22.1</td>\n",
       "    </tr>\n",
       "    <tr>\n",
       "      <th>1</th>\n",
       "      <td>44.5</td>\n",
       "      <td>39.3</td>\n",
       "      <td>45.1</td>\n",
       "      <td>10.4</td>\n",
       "    </tr>\n",
       "    <tr>\n",
       "      <th>2</th>\n",
       "      <td>17.2</td>\n",
       "      <td>45.9</td>\n",
       "      <td>69.3</td>\n",
       "      <td>12.0</td>\n",
       "    </tr>\n",
       "    <tr>\n",
       "      <th>3</th>\n",
       "      <td>151.5</td>\n",
       "      <td>41.3</td>\n",
       "      <td>58.5</td>\n",
       "      <td>16.5</td>\n",
       "    </tr>\n",
       "    <tr>\n",
       "      <th>4</th>\n",
       "      <td>180.8</td>\n",
       "      <td>10.8</td>\n",
       "      <td>58.4</td>\n",
       "      <td>17.9</td>\n",
       "    </tr>\n",
       "  </tbody>\n",
       "</table>\n",
       "</div>"
      ],
      "text/plain": [
       "      TV  Radio  Newspaper  Sales\n",
       "0  230.1   37.8       69.2   22.1\n",
       "1   44.5   39.3       45.1   10.4\n",
       "2   17.2   45.9       69.3   12.0\n",
       "3  151.5   41.3       58.5   16.5\n",
       "4  180.8   10.8       58.4   17.9"
      ]
     },
     "execution_count": 3,
     "metadata": {},
     "output_type": "execute_result"
    }
   ],
   "source": [
    "# read the data\n",
    "data.head()"
   ]
  },
  {
   "cell_type": "code",
   "execution_count": 4,
   "metadata": {},
   "outputs": [
    {
     "data": {
      "text/html": [
       "<div>\n",
       "<style scoped>\n",
       "    .dataframe tbody tr th:only-of-type {\n",
       "        vertical-align: middle;\n",
       "    }\n",
       "\n",
       "    .dataframe tbody tr th {\n",
       "        vertical-align: top;\n",
       "    }\n",
       "\n",
       "    .dataframe thead th {\n",
       "        text-align: right;\n",
       "    }\n",
       "</style>\n",
       "<table border=\"1\" class=\"dataframe\">\n",
       "  <thead>\n",
       "    <tr style=\"text-align: right;\">\n",
       "      <th></th>\n",
       "      <th>TV</th>\n",
       "      <th>Radio</th>\n",
       "      <th>Newspaper</th>\n",
       "      <th>Sales</th>\n",
       "    </tr>\n",
       "  </thead>\n",
       "  <tbody>\n",
       "    <tr>\n",
       "      <th>count</th>\n",
       "      <td>200.000000</td>\n",
       "      <td>200.000000</td>\n",
       "      <td>200.000000</td>\n",
       "      <td>200.000000</td>\n",
       "    </tr>\n",
       "    <tr>\n",
       "      <th>mean</th>\n",
       "      <td>147.042500</td>\n",
       "      <td>23.264000</td>\n",
       "      <td>30.554000</td>\n",
       "      <td>15.130500</td>\n",
       "    </tr>\n",
       "    <tr>\n",
       "      <th>std</th>\n",
       "      <td>85.854236</td>\n",
       "      <td>14.846809</td>\n",
       "      <td>21.778621</td>\n",
       "      <td>5.283892</td>\n",
       "    </tr>\n",
       "    <tr>\n",
       "      <th>min</th>\n",
       "      <td>0.700000</td>\n",
       "      <td>0.000000</td>\n",
       "      <td>0.300000</td>\n",
       "      <td>1.600000</td>\n",
       "    </tr>\n",
       "    <tr>\n",
       "      <th>25%</th>\n",
       "      <td>74.375000</td>\n",
       "      <td>9.975000</td>\n",
       "      <td>12.750000</td>\n",
       "      <td>11.000000</td>\n",
       "    </tr>\n",
       "    <tr>\n",
       "      <th>50%</th>\n",
       "      <td>149.750000</td>\n",
       "      <td>22.900000</td>\n",
       "      <td>25.750000</td>\n",
       "      <td>16.000000</td>\n",
       "    </tr>\n",
       "    <tr>\n",
       "      <th>75%</th>\n",
       "      <td>218.825000</td>\n",
       "      <td>36.525000</td>\n",
       "      <td>45.100000</td>\n",
       "      <td>19.050000</td>\n",
       "    </tr>\n",
       "    <tr>\n",
       "      <th>max</th>\n",
       "      <td>296.400000</td>\n",
       "      <td>49.600000</td>\n",
       "      <td>114.000000</td>\n",
       "      <td>27.000000</td>\n",
       "    </tr>\n",
       "  </tbody>\n",
       "</table>\n",
       "</div>"
      ],
      "text/plain": [
       "               TV       Radio   Newspaper       Sales\n",
       "count  200.000000  200.000000  200.000000  200.000000\n",
       "mean   147.042500   23.264000   30.554000   15.130500\n",
       "std     85.854236   14.846809   21.778621    5.283892\n",
       "min      0.700000    0.000000    0.300000    1.600000\n",
       "25%     74.375000    9.975000   12.750000   11.000000\n",
       "50%    149.750000   22.900000   25.750000   16.000000\n",
       "75%    218.825000   36.525000   45.100000   19.050000\n",
       "max    296.400000   49.600000  114.000000   27.000000"
      ]
     },
     "execution_count": 4,
     "metadata": {},
     "output_type": "execute_result"
    }
   ],
   "source": [
    "# descriptive statistics\n",
    "data.describe()"
   ]
  },
  {
   "cell_type": "code",
   "execution_count": 5,
   "metadata": {},
   "outputs": [
    {
     "name": "stdout",
     "output_type": "stream",
     "text": [
      "TV           0\n",
      "Radio        0\n",
      "Newspaper    0\n",
      "Sales        0\n",
      "dtype: int64\n",
      "\n",
      "There are no Null values in the dataset, hence it is clean\n"
     ]
    }
   ],
   "source": [
    "# Checking Null values\n",
    "x = data.isnull().sum()\n",
    "print(x)\n",
    "if x.sum() > 0:\n",
    "    print(\"\\nThere are Null values in the dataset\")\n",
    "else:\n",
    "    print(\"\\nThere are no Null values in the dataset, hence it is clean\")"
   ]
  },
  {
   "cell_type": "code",
   "execution_count": 6,
   "metadata": {},
   "outputs": [],
   "source": [
    "# Splitting features and target variable.\n",
    "x = data.drop(\"Sales\",axis=1)\n",
    "y = data[\"Sales\"]"
   ]
  },
  {
   "cell_type": "markdown",
   "metadata": {},
   "source": [
    "#### Check the dimensions of your variables\n",
    "\n",
    "Another useful way to get familiar with your data is to view its dimensions.\n",
    "\n",
    "Please print the shape of `x` and `y` and see how many training examples you have in your dataset."
   ]
  },
  {
   "cell_type": "code",
   "execution_count": 7,
   "metadata": {
    "deletable": false,
    "editable": false
   },
   "outputs": [
    {
     "name": "stdout",
     "output_type": "stream",
     "text": [
      "The shape of x_train is: (200, 3)\n",
      "The shape of y_train is: (200,)\n"
     ]
    }
   ],
   "source": [
    "print ('The shape of x_train is:', x.shape)\n",
    "print ('The shape of y_train is:', y.shape)"
   ]
  },
  {
   "cell_type": "markdown",
   "metadata": {},
   "source": [
    "#### Visualize your data\n",
    "\n",
    "It is often useful to understand the data by visualizing it. \n",
    "- For this dataset, you can use a scatter plot to visualize the data.\n",
    "- Many other problems that you will encounter in real life have more than two properties.When you have more than two properties, you can still use a scatter plot to see the relationship between each pair of properties.\n"
   ]
  },
  {
   "cell_type": "code",
   "execution_count": 8,
   "metadata": {
    "deletable": false,
    "editable": false
   },
   "outputs": [
    {
     "data": {
      "image/png": "[encoded data removed]",
      "text/plain": [
       "<Figure size 1200x400 with 3 Axes>"
      ]
     },
     "metadata": {},
     "output_type": "display_data"
    }
   ],
   "source": [
    "# Let's see how Sales are related with other variables using scatter plot.\n",
    "import seaborn as sns\n",
    "sns.pairplot(data, x_vars=['TV', 'Newspaper', 'Radio'], y_vars='Sales', height=4, aspect=1, kind='scatter')\n",
    "plt.show()"
   ]
  },
  {
   "cell_type": "code",
   "execution_count": 9,
   "metadata": {},
   "outputs": [
    {
     "data": {
      "image/png": "[encoded data removed]",
      "text/plain": [
       "<Figure size 640x480 with 2 Axes>"
      ]
     },
     "metadata": {},
     "output_type": "display_data"
    }
   ],
   "source": [
    "# Correlation analysis and visualization using heatmap.\n",
    "sns.heatmap(data.corr(), cmap=\"Blues\", annot = True, linewidths=1)\n",
    "plt.show()"
   ]
  },
  {
   "cell_type": "markdown",
   "metadata": {},
   "source": [
    "As is visible from the pairplot and the heatmap, the variable TV seems to be most correlated with Sales. "
   ]
  },
  {
   "cell_type": "markdown",
   "metadata": {},
   "source": [
    "## feature Scaling "
   ]
  },
  {
   "cell_type": "code",
   "execution_count": 10,
   "metadata": {},
   "outputs": [],
   "source": [
    "from sklearn.preprocessing import StandardScaler\n",
    "scaler = StandardScaler()\n",
    "x = scaler.fit_transform(x)"
   ]
  },
  {
   "cell_type": "markdown",
   "metadata": {},
   "source": [
    "<a name=\"4\"></a>\n",
    "## linear regression\n",
    "\n",
    "In this problem we are going to fit the linear regression parameters $(w,b)$ to our dataset.\n",
    "- The model function for linear regression, which is a function that maps from `x` (advertising on 'TV') to `y` (sales) is represented as \n",
    "    $$f_{w,b}(x) = wx + b$$\n",
    "    \n",
    "\n",
    "- To train a linear regression model, you want to find the best $(w,b)$ parameters that fit your dataset.  \n",
    "\n",
    "    - To compare how one choice of $(w,b)$ is better or worse than another choice, you can evaluate it with a cost function $J(w,b)$\n",
    "      - $J$ is a function of $(w,b)$. That is, the value of the cost $J(w,b)$ depends on the value of $(w,b)$.\n",
    "  \n",
    "    - The choice of $(w,b)$ that fits your data the best is the one that has the smallest cost $J(w,b)$.\n",
    "\n",
    "\n",
    "- To find the values $(w,b)$ that gets the smallest possible cost $J(w,b)$, you can use a method called **gradient descent**. \n",
    "  - With each step of gradient descent, your parameters $(w,b)$ come closer to the optimal values that will achieve the lowest cost $J(w,b)$.\n",
    "  \n",
    "\n",
    "- The trained linear regression model can then take the input feature $x$ (TV) and output a prediction $f_{w,b}(x)$ (Sales)."
   ]
  },
  {
   "cell_type": "markdown",
   "metadata": {},
   "source": [
    "<a name=\"5\"></a>\n",
    "## Compute Cost\n",
    "\n",
    "Gradient descent involves repeated steps to adjust the value of your parameter $(w,b)$ to gradually get a smaller and smaller cost $J(w,b)$.\n",
    "- At each step of gradient descent, it will be helpful for you to monitor your progress by computing the cost $J(w,b)$ as $(w,b)$ gets updated. \n",
    "- we are going to implement a function to calculate $J(w,b)$ so that we can check the progress of our gradient descent implementation.\n",
    "\n",
    "#### Cost function\n",
    "the cost function for linear regression $J(w,b)$ is defined as\n",
    "\n",
    "$$J(w,b) = \\frac{1}{2m} \\sum\\limits_{i = 0}^{m-1} (f_{w,b}(x^{(i)}) - y^{(i)})^2$$ \n",
    "\n",
    "- here $f_{w,b}(x^{(i)})$ is the model's prediction of Sales, as opposed to $y^{(i)}$, which is the actual Sales that is recorded in the data.\n",
    "- $m$ is the number of training examples in the dataset\n",
    "\n",
    "#### Model prediction\n",
    "\n",
    "- For linear regression with one variable, the prediction of the model $f_{w,b}$ for an example $x^{(i)}$ is representented as:\n",
    "\n",
    "$$ f_{w,b}(x^{(i)}) = wx^{(i)} + b$$\n",
    "\n",
    "This is the equation for a line, with an intercept $b$ and a slope $w$"
   ]
  },
  {
   "cell_type": "code",
   "execution_count": 11,
   "metadata": {},
   "outputs": [],
   "source": [
    "def compute_cost(x, y, w, b): \n",
    "    \"\"\"\n",
    "    Computes the cost function for linear regression.\n",
    "    \n",
    "    Args:\n",
    "        x (ndarray): Shape (m,) Input to the model \n",
    "        y (ndarray): Shape (m,) Label (Actual Sales)\n",
    "        w, b (scalar): Parameters of the model\n",
    "    \n",
    "    Returns\n",
    "        cost (float): The cost of using w,b as the parameters for linear regression\n",
    "               to fit the data points in x and y\n",
    "    \"\"\"\n",
    "    \n",
    "    m = x.shape[0]\n",
    "    cost = 0\n",
    "    for i in range(m):                                \n",
    "        f_wb = np.dot(x[i], w) + b        \n",
    "        cost += (y[i] - f_wb)**2       \n",
    "    cost = cost / (2 * m)                         \n",
    "    return cost"
   ]
  },
  {
   "cell_type": "markdown",
   "metadata": {},
   "source": [
    "<a name=\"6\"></a>\n",
    "## Gradient descent \n",
    "\n",
    "implement the gradient for parameters $w, b$ for linear regression. "
   ]
  },
  {
   "cell_type": "markdown",
   "metadata": {},
   "source": [
    "The gradient descent algorithm is:\n",
    "\n",
    "$$\\begin{align*}& \\text{repeat until convergence:} \\; \\lbrace \\newline \\; & \\phantom {0000} b := b -  \\alpha \\frac{\\partial J(w,b)}{\\partial b} \\newline       \\; & \\phantom {0000} w := w -  \\alpha \\frac{\\partial J(w,b)}{\\partial w} \\tag{1}  \\; & \n",
    "\\newline & \\rbrace\\end{align*}$$\n",
    "\n",
    "where, parameters $w, b$ are both updated simultaniously and where  \n",
    "$$\n",
    "\\frac{\\partial J(w,b)}{\\partial b}  = \\frac{1}{m} \\sum\\limits_{i = 0}^{m-1} (f_{w,b}(x^{(i)}) - y^{(i)}) \\tag{2}\n",
    "$$\n",
    "$$\n",
    "\\frac{\\partial J(w,b)}{\\partial w}  = \\frac{1}{m} \\sum\\limits_{i = 0}^{m-1} (f_{w,b}(x^{(i)}) -y^{(i)})x^{(i)} \\tag{3}\n",
    "$$\n",
    "* m is the number of training examples in the dataset\n",
    "\n",
    "    \n",
    "*  $f_{w,b}(x^{(i)})$ is the model's prediction, while $y^{(i)}$, is the target value\n",
    "\n",
    "\n",
    "You will implement a function called `compute_gradient` which calculates $\\frac{\\partial J(w)}{\\partial w}$, $\\frac{\\partial J(w)}{\\partial b}$ "
   ]
  },
  {
   "cell_type": "code",
   "execution_count": 12,
   "metadata": {
    "deletable": false
   },
   "outputs": [],
   "source": [
    "def compute_gradient(x, y, w, b): \n",
    "    \"\"\"\n",
    "    Computes the gradient for linear regression \n",
    "    Args:\n",
    "      x (ndarray): Shape (m,) Input to the model \n",
    "      y (ndarray): Shape (m,) Label (Actual Sales)\n",
    "      w, b (scalar): Parameters of the model  \n",
    "    Returns\n",
    "      dj_dw (scalar): The gradient of the cost w.r.t. the parameters w\n",
    "      dj_db (scalar): The gradient of the cost w.r.t. the parameter b     \n",
    "     \"\"\"\n",
    "    \n",
    "    # Number of training examples\n",
    "    m,n = x.shape            #(number of examples, number of features)\n",
    "    dj_dw = np.zeros((n,))\n",
    "    dj_db = 0.\n",
    "\n",
    "    for i in range(m):                             \n",
    "        err = (np.dot(x[i], w) + b) - y[i]   \n",
    "        for j in range(n):                         \n",
    "            dj_dw[j] += err * x[i, j]    \n",
    "        dj_db = dj_db + err                        \n",
    "    dj_dw = dj_dw / m                                \n",
    "    dj_db = dj_db / m                                \n",
    "        \n",
    "    return dj_db, dj_dw"
   ]
  },
  {
   "cell_type": "markdown",
   "metadata": {},
   "source": [
    "\n",
    "### Learning parameters using batch gradient descent"
   ]
  },
  {
   "cell_type": "code",
   "execution_count": 13,
   "metadata": {
    "deletable": false,
    "editable": false
   },
   "outputs": [],
   "source": [
    "def gradient_descent(x, y, w_in, b_in, cost_function, gradient_function, alpha, num_iters): \n",
    "    \"\"\"\n",
    "    Performs batch gradient descent to learn theta. Updates theta by taking \n",
    "    num_iters gradient steps with learning rate alpha\n",
    "    \n",
    "    Args:\n",
    "      x :    (ndarray): Shape (m,)\n",
    "      y :    (ndarray): Shape (m,)\n",
    "      w_in, b_in : (scalar) Initial values of parameters of the model\n",
    "      cost_function: function to compute cost\n",
    "      gradient_function: function to compute the gradient\n",
    "      alpha : (float) Learning rate\n",
    "      num_iters : (int) number of iterations to run gradient descent\n",
    "    Returns\n",
    "      w : (ndarray): Shape (1,) Updated values of parameters of the model after\n",
    "          running gradient descent\n",
    "      b : (scalar)                Updated value of parameter of the model after\n",
    "          running gradient descent\n",
    "    \"\"\"\n",
    "       \n",
    "    J_history = []   # An array to store cost J and w's at each iteration primarily for graphing later\n",
    "    w = copy.deepcopy(w_in)  #avoid modifying global w within function\n",
    "    b = b_in\n",
    "    \n",
    "    for i in range(num_iters):\n",
    "\n",
    "        # Calculate the gradient and update the parameters\n",
    "        dj_db,dj_dw = gradient_function(x, y, w, b)  \n",
    "\n",
    "        # Update Parameters using w, b, alpha and gradient\n",
    "        w -= alpha * dj_dw.reshape(-1, 1)\n",
    "\n",
    "        b -= alpha * dj_db             \n",
    "      \n",
    "        # Save cost J at each iteration\n",
    "        if i<100000:      # prevent resource exhaustion \n",
    "            J_history.append(cost_function(x, y, w, b))\n",
    "\n",
    "        # Print cost every at intervals 10 times or as many iterations if < 10\n",
    "        if i% math.ceil(num_iters / 10) == 0:\n",
    "            print(f\"Iteration {i:4d}: Cost {J_history[-1][0]:8.2f}   \")\n",
    "\n",
    "        \n",
    "    return w, b, J_history #return final w,b and J history for graphing"
   ]
  },
  {
   "cell_type": "markdown",
   "metadata": {},
   "source": [
    "Now let's run the gradient descent algorithm above to learn the parameters for our dataset."
   ]
  },
  {
   "cell_type": "code",
   "execution_count": 14,
   "metadata": {
    "deletable": false,
    "editable": false
   },
   "outputs": [
    {
     "name": "stdout",
     "output_type": "stream",
     "text": [
      "Iteration    0: Cost   125.47   \n",
      "Iteration  100: Cost   102.68   \n",
      "Iteration  200: Cost    84.09   \n",
      "Iteration  300: Cost    68.93   \n",
      "Iteration  400: Cost    56.56   \n",
      "Iteration  500: Cost    46.45   \n",
      "Iteration  600: Cost    38.21   \n",
      "Iteration  700: Cost    31.47   \n",
      "Iteration  800: Cost    25.97   \n",
      "Iteration  900: Cost    21.48   \n",
      "b,w found by gradient descent: [9.56708438],[[ 3.38216346]\n",
      " [ 1.09308568]\n",
      " [-0.11415965]]\n",
      "prediction: [13.71708765], target value: 22.1\n",
      "prediction: [6.62452509], target value: 10.4\n",
      "prediction: [5.90633245], target value: 12.0\n",
      "prediction: [10.92748915], target value: 16.5\n",
      "prediction: [9.83398712], target value: 17.9\n",
      "prediction: [5.76211477], target value: 7.2\n",
      "prediction: [6.77168424], target value: 11.8\n",
      "prediction: [8.33615709], target value: 13.2\n",
      "prediction: [2.69277073], target value: 4.8\n",
      "prediction: [10.17460718], target value: 15.6\n",
      "prediction: [5.1148025], target value: 12.6\n",
      "prediction: [12.43295347], target value: 17.4\n",
      "prediction: [5.38771629], target value: 9.2\n",
      "prediction: [6.57707697], target value: 13.7\n",
      "prediction: [12.45051797], target value: 19.0\n",
      "prediction: [13.16304233], target value: 22.4\n",
      "prediction: [6.98336231], target value: 12.5\n",
      "prediction: [15.94635708], target value: 24.4\n",
      "prediction: [6.35322833], target value: 11.3\n",
      "prediction: [9.68438689], target value: 14.6\n",
      "prediction: [12.59257562], target value: 18.0\n",
      "prediction: [11.83198423], target value: 17.5\n",
      "prediction: [3.63761193], target value: 5.6\n",
      "prediction: [12.32935513], target value: 20.5\n",
      "prediction: [5.49763449], target value: 9.7\n",
      "prediction: [12.74198395], target value: 17.0\n",
      "prediction: [9.94334335], target value: 15.0\n",
      "prediction: [12.79795343], target value: 20.9\n",
      "prediction: [13.90915746], target value: 18.9\n",
      "prediction: [5.95814107], target value: 10.5\n",
      "prediction: [15.63269841], target value: 21.4\n",
      "prediction: [7.74359318], target value: 11.9\n",
      "prediction: [5.99518047], target value: 13.2\n",
      "prediction: [14.16735998], target value: 17.4\n",
      "prediction: [6.04732235], target value: 11.9\n",
      "prediction: [13.94198253], target value: 17.8\n",
      "prediction: [15.95065771], target value: 25.4\n",
      "prediction: [8.55953526], target value: 14.7\n",
      "prediction: [5.69179063], target value: 10.1\n",
      "prediction: [13.8222563], target value: 21.5\n",
      "prediction: [11.68062485], target value: 16.6\n",
      "prediction: [11.45552055], target value: 17.1\n",
      "prediction: [15.83361415], target value: 20.7\n",
      "prediction: [10.85577479], target value: 17.9\n",
      "prediction: [4.86401483], target value: 8.5\n",
      "prediction: [10.61380097], target value: 16.1\n",
      "prediction: [6.2890247], target value: 10.6\n",
      "prediction: [14.64364081], target value: 23.2\n",
      "prediction: [12.08017985], target value: 19.8\n",
      "prediction: [5.51565761], target value: 9.7\n",
      "prediction: [10.14109503], target value: 16.4\n",
      "prediction: [6.85814297], target value: 10.7\n",
      "prediction: [13.61943457], target value: 22.6\n",
      "prediction: [12.51633812], target value: 21.2\n",
      "prediction: [14.62037187], target value: 20.2\n",
      "prediction: [13.38943325], target value: 23.7\n",
      "prediction: [4.34816363], target value: 5.5\n",
      "prediction: [8.91224834], target value: 13.2\n",
      "prediction: [13.991349], target value: 23.8\n",
      "prediction: [12.65307936], target value: 18.4\n",
      "prediction: [4.35142892], target value: 8.1\n",
      "prediction: [15.38713407], target value: 24.2\n",
      "prediction: [12.65466621], target value: 20.7\n",
      "prediction: [8.39993397], target value: 14.0\n",
      "prediction: [10.38809055], target value: 16.0\n",
      "prediction: [5.61010507], target value: 11.3\n",
      "prediction: [5.25156028], target value: 11.0\n",
      "prediction: [8.72140635], target value: 13.4\n",
      "prediction: [13.55099384], target value: 18.9\n",
      "prediction: [13.86277339], target value: 22.3\n",
      "prediction: [12.12165296], target value: 18.3\n",
      "prediction: [7.42861586], target value: 12.4\n",
      "prediction: [5.59607849], target value: 8.8\n",
      "prediction: [7.57002507], target value: 11.0\n",
      "prediction: [12.37807757], target value: 17.0\n",
      "prediction: [5.62647962], target value: 8.7\n",
      "prediction: [3.29876295], target value: 6.9\n",
      "prediction: [8.99124252], target value: 14.2\n",
      "prediction: [4.57414221], target value: 5.3\n",
      "prediction: [7.23152628], target value: 11.0\n",
      "prediction: [7.07417484], target value: 11.8\n",
      "prediction: [11.78254198], target value: 17.3\n",
      "prediction: [6.50475384], target value: 11.3\n",
      "prediction: [8.00213965], target value: 13.6\n",
      "prediction: [13.63133516], target value: 21.7\n",
      "prediction: [10.84628903], target value: 20.2\n",
      "prediction: [7.16237911], target value: 12.0\n",
      "prediction: [9.23980559], target value: 16.0\n",
      "prediction: [7.18704275], target value: 12.9\n",
      "prediction: [9.79769557], target value: 16.7\n",
      "prediction: [7.82010354], target value: 14.0\n",
      "prediction: [3.27018827], target value: 7.3\n",
      "prediction: [12.96359499], target value: 19.4\n",
      "prediction: [14.42630214], target value: 22.2\n",
      "prediction: [7.42099318], target value: 11.5\n",
      "prediction: [10.70698804], target value: 16.9\n",
      "prediction: [10.2345516], target value: 16.7\n",
      "prediction: [10.94004215], target value: 20.5\n",
      "prediction: [16.49760717], target value: 25.4\n",
      "prediction: [10.37948778], target value: 17.2\n",
      "prediction: [11.04233451], target value: 16.7\n",
      "prediction: [16.05818449], target value: 23.8\n",
      "prediction: [13.90236992], target value: 19.8\n",
      "prediction: [10.79959254], target value: 19.7\n",
      "prediction: [14.11444314], target value: 20.7\n",
      "prediction: [10.76418146], target value: 15.0\n",
      "prediction: [3.84654035], target value: 7.2\n",
      "prediction: [5.67379032], target value: 12.0\n",
      "prediction: [2.61574196], target value: 5.3\n",
      "prediction: [14.24648675], target value: 19.8\n",
      "prediction: [11.42925798], target value: 18.4\n",
      "prediction: [14.43169839], target value: 21.8\n",
      "prediction: [10.26637246], target value: 17.1\n",
      "prediction: [11.94537955], target value: 20.9\n",
      "prediction: [8.56471337], target value: 14.6\n",
      "prediction: [7.47569755], target value: 12.6\n",
      "prediction: [8.62176861], target value: 12.2\n",
      "prediction: [5.20193311], target value: 9.4\n",
      "prediction: [9.47502918], target value: 15.9\n",
      "prediction: [4.03331094], target value: 6.6\n",
      "prediction: [9.5190646], target value: 15.5\n",
      "prediction: [4.28266177], target value: 7.0\n",
      "prediction: [11.14500647], target value: 16.6\n",
      "prediction: [9.55361868], target value: 15.2\n",
      "prediction: [13.2611672], target value: 19.7\n",
      "prediction: [6.38202786], target value: 10.6\n",
      "prediction: [5.11670201], target value: 6.6\n",
      "prediction: [5.32238756], target value: 11.9\n",
      "prediction: [14.50354477], target value: 24.7\n",
      "prediction: [5.21639428], target value: 9.7\n",
      "prediction: [5.10815073], target value: 1.6\n",
      "prediction: [12.66504075], target value: 17.7\n",
      "prediction: [4.53169846], target value: 5.7\n",
      "prediction: [13.11957468], target value: 19.6\n",
      "prediction: [6.16498413], target value: 10.8\n",
      "prediction: [7.53526059], target value: 11.6\n",
      "prediction: [6.04409074], target value: 9.5\n",
      "prediction: [14.83200904], target value: 20.8\n",
      "prediction: [5.70551673], target value: 9.6\n",
      "prediction: [12.73694509], target value: 20.7\n",
      "prediction: [6.28914463], target value: 10.9\n",
      "prediction: [12.06876495], target value: 19.2\n",
      "prediction: [13.16291297], target value: 20.1\n",
      "prediction: [6.57430554], target value: 10.4\n",
      "prediction: [6.89057827], target value: 12.3\n",
      "prediction: [7.83721157], target value: 10.3\n",
      "prediction: [12.17876914], target value: 18.2\n",
      "prediction: [15.19195748], target value: 25.4\n",
      "prediction: [6.6160941], target value: 10.9\n",
      "prediction: [5.76474861], target value: 10.1\n",
      "prediction: [14.1206132], target value: 16.1\n",
      "prediction: [7.34613078], target value: 11.6\n",
      "prediction: [11.65235423], target value: 16.6\n",
      "prediction: [11.70066174], target value: 16.0\n",
      "prediction: [11.12764026], target value: 20.6\n",
      "prediction: [3.1915392], target value: 3.2\n",
      "prediction: [8.85710576], target value: 15.3\n",
      "prediction: [8.08770956], target value: 10.1\n",
      "prediction: [5.15148393], target value: 7.3\n",
      "prediction: [8.58089257], target value: 12.9\n",
      "prediction: [10.19056311], target value: 16.4\n",
      "prediction: [7.97123865], target value: 13.3\n",
      "prediction: [10.84530391], target value: 19.9\n",
      "prediction: [11.33779504], target value: 18.0\n",
      "prediction: [7.88859434], target value: 11.9\n",
      "prediction: [11.26984885], target value: 16.9\n",
      "prediction: [5.57202495], target value: 8.0\n",
      "prediction: [10.65242139], target value: 17.2\n",
      "prediction: [12.14940834], target value: 17.1\n",
      "prediction: [14.18002082], target value: 20.0\n",
      "prediction: [4.93753472], target value: 8.4\n",
      "prediction: [9.99352545], target value: 17.5\n",
      "prediction: [4.37167798], target value: 7.6\n",
      "prediction: [9.31080602], target value: 16.7\n",
      "prediction: [11.16876397], target value: 16.5\n",
      "prediction: [16.52863178], target value: 27.0\n",
      "prediction: [14.13583117], target value: 20.2\n",
      "prediction: [9.31584849], target value: 16.7\n",
      "prediction: [13.17634711], target value: 16.8\n",
      "prediction: [9.38904764], target value: 17.6\n",
      "prediction: [8.53629406], target value: 15.5\n",
      "prediction: [11.08721277], target value: 17.2\n",
      "prediction: [4.68753745], target value: 8.7\n",
      "prediction: [16.35808547], target value: 26.2\n",
      "prediction: [13.64122027], target value: 17.6\n",
      "prediction: [13.52526336], target value: 22.6\n",
      "prediction: [7.72789132], target value: 10.3\n",
      "prediction: [11.77319791], target value: 17.3\n",
      "prediction: [14.50491736], target value: 20.9\n",
      "prediction: [3.71203005], target value: 6.7\n",
      "prediction: [6.76643634], target value: 10.8\n",
      "prediction: [5.95072346], target value: 11.9\n",
      "prediction: [3.01922729], target value: 5.9\n",
      "prediction: [11.8718982], target value: 19.6\n",
      "prediction: [10.71157626], target value: 17.3\n",
      "prediction: [3.91259753], target value: 7.6\n",
      "prediction: [6.24273584], target value: 14.0\n",
      "prediction: [9.84645848], target value: 14.8\n",
      "prediction: [16.15573186], target value: 25.5\n",
      "prediction: [11.95877601], target value: 18.4\n"
     ]
    }
   ],
   "source": [
    "w_init = np.random.randn(x.shape[1], 1)  # Initialize parameters with zeros\n",
    "b_init = 0\n",
    "iterations = 1000\n",
    "alpha = 0.001\n",
    "# run gradient descent \n",
    "w_final, b_final, J_hist = gradient_descent(x, y, w_init, b_init,\n",
    "                                                    compute_cost, compute_gradient, \n",
    "                                                    alpha, iterations)\n",
    "#print(f\"b,w found by gradient descent: {w_final},{b_final}\")\n",
    "print(f\"b,w found by gradient descent: {b_final},{w_final}\")\n",
    "m,_ = x.shape\n",
    "for i in range(m):\n",
    "    print(f\"prediction: {np.dot(x[i], w_final) + b_final}, target value: {y[i]}\")"
   ]
  },
  {
   "cell_type": "code",
   "execution_count": 15,
   "metadata": {},
   "outputs": [
    {
     "data": {
      "image/png": "[encoded data removed]",
      "text/plain": [
       "<Figure size 1200x400 with 2 Axes>"
      ]
     },
     "metadata": {},
     "output_type": "display_data"
    }
   ],
   "source": [
    "# plot cost versus iteration  \n",
    "fig, (ax1, ax2) = plt.subplots(1, 2, constrained_layout=True, figsize=(12, 4))\n",
    "ax1.plot(J_hist)\n",
    "ax2.plot(100 + np.arange(len(J_hist[100:])), J_hist[100:])\n",
    "ax1.set_title(\"Cost vs. iteration\");  ax2.set_title(\"Cost vs. iteration (tail)\")\n",
    "ax1.set_ylabel('Cost')             ;  ax2.set_ylabel('Cost') \n",
    "ax1.set_xlabel('iteration step')   ;  ax2.set_xlabel('iteration step') \n",
    "plt.show()"
   ]
  },
  {
   "cell_type": "markdown",
   "metadata": {},
   "source": [
    "## Using inbuild function"
   ]
  },
  {
   "cell_type": "code",
   "execution_count": 16,
   "metadata": {},
   "outputs": [],
   "source": [
    "from sklearn.linear_model import SGDRegressor"
   ]
  },
  {
   "cell_type": "markdown",
   "metadata": {},
   "source": [
    "### Create and fit the regression model"
   ]
  },
  {
   "cell_type": "code",
   "execution_count": 17,
   "metadata": {},
   "outputs": [
    {
     "name": "stdout",
     "output_type": "stream",
     "text": [
      "SGDRegressor()\n",
      "number of iterations completed: 21, number of weight updates: 4201.0\n"
     ]
    }
   ],
   "source": [
    "sgdr = SGDRegressor(max_iter=1000)\n",
    "sgdr.fit(x, y)\n",
    "print(sgdr)\n",
    "print(f\"number of iterations completed: {sgdr.n_iter_}, number of weight updates: {sgdr.t_}\")"
   ]
  },
  {
   "cell_type": "code",
   "execution_count": 18,
   "metadata": {},
   "outputs": [
    {
     "name": "stdout",
     "output_type": "stream",
     "text": [
      "model parameters:w: [4.65764255 1.5699345  0.01557055], b:[15.11559447]\n"
     ]
    }
   ],
   "source": [
    "b_norm = sgdr.intercept_\n",
    "w_norm = sgdr.coef_\n",
    "print(f\"model parameters:w: {w_norm}, b:{b_norm}\")"
   ]
  },
  {
   "cell_type": "code",
   "execution_count": 21,
   "metadata": {},
   "outputs": [
    {
     "data": {
      "text/html": [
       "<div>\n",
       "<style scoped>\n",
       "    .dataframe tbody tr th:only-of-type {\n",
       "        vertical-align: middle;\n",
       "    }\n",
       "\n",
       "    .dataframe tbody tr th {\n",
       "        vertical-align: top;\n",
       "    }\n",
       "\n",
       "    .dataframe thead th {\n",
       "        text-align: right;\n",
       "    }\n",
       "</style>\n",
       "<table border=\"1\" class=\"dataframe\">\n",
       "  <thead>\n",
       "    <tr style=\"text-align: right;\">\n",
       "      <th></th>\n",
       "      <th>Actual</th>\n",
       "      <th>Predicted</th>\n",
       "    </tr>\n",
       "  </thead>\n",
       "  <tbody>\n",
       "    <tr>\n",
       "      <th>0</th>\n",
       "      <td>22.1</td>\n",
       "      <td>21.201445</td>\n",
       "    </tr>\n",
       "    <tr>\n",
       "      <th>1</th>\n",
       "      <td>10.4</td>\n",
       "      <td>11.249007</td>\n",
       "    </tr>\n",
       "    <tr>\n",
       "      <th>2</th>\n",
       "      <td>12.0</td>\n",
       "      <td>10.481245</td>\n",
       "    </tr>\n",
       "    <tr>\n",
       "      <th>3</th>\n",
       "      <td>16.5</td>\n",
       "      <td>17.290006</td>\n",
       "    </tr>\n",
       "    <tr>\n",
       "      <th>4</th>\n",
       "      <td>17.9</td>\n",
       "      <td>15.650234</td>\n",
       "    </tr>\n",
       "    <tr>\n",
       "      <th>...</th>\n",
       "      <td>...</td>\n",
       "      <td>...</td>\n",
       "    </tr>\n",
       "    <tr>\n",
       "      <th>195</th>\n",
       "      <td>7.6</td>\n",
       "      <td>7.110067</td>\n",
       "    </tr>\n",
       "    <tr>\n",
       "      <th>196</th>\n",
       "      <td>14.0</td>\n",
       "      <td>10.278847</td>\n",
       "    </tr>\n",
       "    <tr>\n",
       "      <th>197</th>\n",
       "      <td>14.8</td>\n",
       "      <td>15.247283</td>\n",
       "    </tr>\n",
       "    <tr>\n",
       "      <th>198</th>\n",
       "      <td>25.5</td>\n",
       "      <td>24.554216</td>\n",
       "    </tr>\n",
       "    <tr>\n",
       "      <th>199</th>\n",
       "      <td>18.4</td>\n",
       "      <td>18.171434</td>\n",
       "    </tr>\n",
       "  </tbody>\n",
       "</table>\n",
       "<p>200 rows × 2 columns</p>\n",
       "</div>"
      ],
      "text/plain": [
       "     Actual  Predicted\n",
       "0      22.1  21.201445\n",
       "1      10.4  11.249007\n",
       "2      12.0  10.481245\n",
       "3      16.5  17.290006\n",
       "4      17.9  15.650234\n",
       "..      ...        ...\n",
       "195     7.6   7.110067\n",
       "196    14.0  10.278847\n",
       "197    14.8  15.247283\n",
       "198    25.5  24.554216\n",
       "199    18.4  18.171434\n",
       "\n",
       "[200 rows x 2 columns]"
      ]
     },
     "execution_count": 21,
     "metadata": {},
     "output_type": "execute_result"
    }
   ],
   "source": [
    "# make a prediction using sgdr.predict()\n",
    "y_pred_sgd = sgdr.predict(x)\n",
    "prediction = pd.DataFrame(np.c_[y,y_pred],columns =(\"Actual\",\"Predicted\"))\n",
    "prediction\n",
    "\n"
   ]
  },
  {
   "cell_type": "markdown",
   "metadata": {},
   "source": [
    "<div style=\"font-family: cursive; background-color: #333; color: white; padding: 10px;\">\n",
    "    <h2>Thank you so much</h2>\n",
    "</div>\n"
   ]
  }
 ],
 "metadata": {
  "kernelspec": {
   "display_name": "Python 3 (ipykernel)",
   "language": "python",
   "name": "python3"
  },
  "language_info": {
   "codemirror_mode": {
    "name": "ipython",
    "version": 3
   },
   "file_extension": ".py",
   "mimetype": "text/x-python",
   "name": "python",
   "nbconvert_exporter": "python",
   "pygments_lexer": "ipython3",
   "version": "3.9.13"
  }
 },
 "nbformat": 4,
 "nbformat_minor": 4
}
